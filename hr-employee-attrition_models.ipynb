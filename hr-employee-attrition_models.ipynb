{
 "cells": [
  {
   "cell_type": "code",
   "execution_count": 38,
   "metadata": {},
   "outputs": [],
   "source": [
    "import numpy as np \n",
    "import pandas as pd \n",
    "\n",
    "from sklearn.ensemble import GradientBoostingClassifier\n",
    "from sklearn.tree import DecisionTreeClassifier\n",
    "from sklearn.linear_model import LogisticRegression\n",
    "from sklearn import svm\n",
    "\n",
    "from sklearn.model_selection import GridSearchCV"
   ]
  },
  {
   "cell_type": "code",
   "execution_count": 2,
   "metadata": {
    "scrolled": true
   },
   "outputs": [],
   "source": [
    "data=pd.read_csv('./data/aaizemberg-hr-employee-attrition/data/wa_fn_usec_hr_employee_attrition_tsv.csv')"
   ]
  },
  {
   "cell_type": "code",
   "execution_count": 3,
   "metadata": {},
   "outputs": [
    {
     "data": {
      "text/html": [
       "<div>\n",
       "<style scoped>\n",
       "    .dataframe tbody tr th:only-of-type {\n",
       "        vertical-align: middle;\n",
       "    }\n",
       "\n",
       "    .dataframe tbody tr th {\n",
       "        vertical-align: top;\n",
       "    }\n",
       "\n",
       "    .dataframe thead th {\n",
       "        text-align: right;\n",
       "    }\n",
       "</style>\n",
       "<table border=\"1\" class=\"dataframe\">\n",
       "  <thead>\n",
       "    <tr style=\"text-align: right;\">\n",
       "      <th></th>\n",
       "      <th>age</th>\n",
       "      <th>attrition</th>\n",
       "      <th>businesstravel</th>\n",
       "      <th>dailyrate</th>\n",
       "      <th>department</th>\n",
       "      <th>distancefromhome</th>\n",
       "      <th>education</th>\n",
       "      <th>educationfield</th>\n",
       "      <th>employeecount</th>\n",
       "      <th>employeenumber</th>\n",
       "      <th>...</th>\n",
       "      <th>relationshipsatisfaction</th>\n",
       "      <th>standardhours</th>\n",
       "      <th>stockoptionlevel</th>\n",
       "      <th>totalworkingyears</th>\n",
       "      <th>trainingtimeslastyear</th>\n",
       "      <th>worklifebalance</th>\n",
       "      <th>yearsatcompany</th>\n",
       "      <th>yearsincurrentrole</th>\n",
       "      <th>yearssincelastpromotion</th>\n",
       "      <th>yearswithcurrmanager</th>\n",
       "    </tr>\n",
       "  </thead>\n",
       "  <tbody>\n",
       "    <tr>\n",
       "      <th>0</th>\n",
       "      <td>41</td>\n",
       "      <td>Yes</td>\n",
       "      <td>Travel_Rarely</td>\n",
       "      <td>1102</td>\n",
       "      <td>Sales</td>\n",
       "      <td>1</td>\n",
       "      <td>2</td>\n",
       "      <td>Life Sciences</td>\n",
       "      <td>1</td>\n",
       "      <td>1</td>\n",
       "      <td>...</td>\n",
       "      <td>1</td>\n",
       "      <td>80</td>\n",
       "      <td>0</td>\n",
       "      <td>8</td>\n",
       "      <td>0</td>\n",
       "      <td>1</td>\n",
       "      <td>6</td>\n",
       "      <td>4</td>\n",
       "      <td>0</td>\n",
       "      <td>5</td>\n",
       "    </tr>\n",
       "    <tr>\n",
       "      <th>1</th>\n",
       "      <td>49</td>\n",
       "      <td>No</td>\n",
       "      <td>Travel_Frequently</td>\n",
       "      <td>279</td>\n",
       "      <td>Research &amp; Development</td>\n",
       "      <td>8</td>\n",
       "      <td>1</td>\n",
       "      <td>Life Sciences</td>\n",
       "      <td>1</td>\n",
       "      <td>2</td>\n",
       "      <td>...</td>\n",
       "      <td>4</td>\n",
       "      <td>80</td>\n",
       "      <td>1</td>\n",
       "      <td>10</td>\n",
       "      <td>3</td>\n",
       "      <td>3</td>\n",
       "      <td>10</td>\n",
       "      <td>7</td>\n",
       "      <td>1</td>\n",
       "      <td>7</td>\n",
       "    </tr>\n",
       "    <tr>\n",
       "      <th>2</th>\n",
       "      <td>37</td>\n",
       "      <td>Yes</td>\n",
       "      <td>Travel_Rarely</td>\n",
       "      <td>1373</td>\n",
       "      <td>Research &amp; Development</td>\n",
       "      <td>2</td>\n",
       "      <td>2</td>\n",
       "      <td>Other</td>\n",
       "      <td>1</td>\n",
       "      <td>4</td>\n",
       "      <td>...</td>\n",
       "      <td>2</td>\n",
       "      <td>80</td>\n",
       "      <td>0</td>\n",
       "      <td>7</td>\n",
       "      <td>3</td>\n",
       "      <td>3</td>\n",
       "      <td>0</td>\n",
       "      <td>0</td>\n",
       "      <td>0</td>\n",
       "      <td>0</td>\n",
       "    </tr>\n",
       "    <tr>\n",
       "      <th>3</th>\n",
       "      <td>33</td>\n",
       "      <td>No</td>\n",
       "      <td>Travel_Frequently</td>\n",
       "      <td>1392</td>\n",
       "      <td>Research &amp; Development</td>\n",
       "      <td>3</td>\n",
       "      <td>4</td>\n",
       "      <td>Life Sciences</td>\n",
       "      <td>1</td>\n",
       "      <td>5</td>\n",
       "      <td>...</td>\n",
       "      <td>3</td>\n",
       "      <td>80</td>\n",
       "      <td>0</td>\n",
       "      <td>8</td>\n",
       "      <td>3</td>\n",
       "      <td>3</td>\n",
       "      <td>8</td>\n",
       "      <td>7</td>\n",
       "      <td>3</td>\n",
       "      <td>0</td>\n",
       "    </tr>\n",
       "    <tr>\n",
       "      <th>4</th>\n",
       "      <td>27</td>\n",
       "      <td>No</td>\n",
       "      <td>Travel_Rarely</td>\n",
       "      <td>591</td>\n",
       "      <td>Research &amp; Development</td>\n",
       "      <td>2</td>\n",
       "      <td>1</td>\n",
       "      <td>Medical</td>\n",
       "      <td>1</td>\n",
       "      <td>7</td>\n",
       "      <td>...</td>\n",
       "      <td>4</td>\n",
       "      <td>80</td>\n",
       "      <td>1</td>\n",
       "      <td>6</td>\n",
       "      <td>3</td>\n",
       "      <td>3</td>\n",
       "      <td>2</td>\n",
       "      <td>2</td>\n",
       "      <td>2</td>\n",
       "      <td>2</td>\n",
       "    </tr>\n",
       "  </tbody>\n",
       "</table>\n",
       "<p>5 rows × 35 columns</p>\n",
       "</div>"
      ],
      "text/plain": [
       "   age attrition     businesstravel  dailyrate              department  \\\n",
       "0   41       Yes      Travel_Rarely       1102                   Sales   \n",
       "1   49        No  Travel_Frequently        279  Research & Development   \n",
       "2   37       Yes      Travel_Rarely       1373  Research & Development   \n",
       "3   33        No  Travel_Frequently       1392  Research & Development   \n",
       "4   27        No      Travel_Rarely        591  Research & Development   \n",
       "\n",
       "   distancefromhome  education educationfield  employeecount  employeenumber  \\\n",
       "0                 1          2  Life Sciences              1               1   \n",
       "1                 8          1  Life Sciences              1               2   \n",
       "2                 2          2          Other              1               4   \n",
       "3                 3          4  Life Sciences              1               5   \n",
       "4                 2          1        Medical              1               7   \n",
       "\n",
       "   ...  relationshipsatisfaction standardhours  stockoptionlevel  \\\n",
       "0  ...                         1            80                 0   \n",
       "1  ...                         4            80                 1   \n",
       "2  ...                         2            80                 0   \n",
       "3  ...                         3            80                 0   \n",
       "4  ...                         4            80                 1   \n",
       "\n",
       "   totalworkingyears  trainingtimeslastyear worklifebalance  yearsatcompany  \\\n",
       "0                  8                      0               1               6   \n",
       "1                 10                      3               3              10   \n",
       "2                  7                      3               3               0   \n",
       "3                  8                      3               3               8   \n",
       "4                  6                      3               3               2   \n",
       "\n",
       "  yearsincurrentrole  yearssincelastpromotion  yearswithcurrmanager  \n",
       "0                  4                        0                     5  \n",
       "1                  7                        1                     7  \n",
       "2                  0                        0                     0  \n",
       "3                  7                        3                     0  \n",
       "4                  2                        2                     2  \n",
       "\n",
       "[5 rows x 35 columns]"
      ]
     },
     "execution_count": 3,
     "metadata": {},
     "output_type": "execute_result"
    }
   ],
   "source": [
    "data.head()"
   ]
  },
  {
   "cell_type": "code",
   "execution_count": 4,
   "metadata": {
    "scrolled": true
   },
   "outputs": [
    {
     "data": {
      "text/plain": [
       "Index(['age', 'attrition', 'businesstravel', 'dailyrate', 'department',\n",
       "       'distancefromhome', 'education', 'educationfield', 'employeecount',\n",
       "       'employeenumber', 'environmentsatisfaction', 'gender', 'hourlyrate',\n",
       "       'jobinvolvement', 'joblevel', 'jobrole', 'jobsatisfaction',\n",
       "       'maritalstatus', 'monthlyincome', 'monthlyrate', 'numcompaniesworked',\n",
       "       'over18', 'overtime', 'percentsalaryhike', 'performancerating',\n",
       "       'relationshipsatisfaction', 'standardhours', 'stockoptionlevel',\n",
       "       'totalworkingyears', 'trainingtimeslastyear', 'worklifebalance',\n",
       "       'yearsatcompany', 'yearsincurrentrole', 'yearssincelastpromotion',\n",
       "       'yearswithcurrmanager'],\n",
       "      dtype='object')"
      ]
     },
     "execution_count": 4,
     "metadata": {},
     "output_type": "execute_result"
    }
   ],
   "source": [
    "data.columns"
   ]
  },
  {
   "cell_type": "code",
   "execution_count": 5,
   "metadata": {},
   "outputs": [
    {
     "name": "stdout",
     "output_type": "stream",
     "text": [
      "<class 'pandas.core.frame.DataFrame'>\n",
      "RangeIndex: 1470 entries, 0 to 1469\n",
      "Data columns (total 35 columns):\n",
      " #   Column                    Non-Null Count  Dtype \n",
      "---  ------                    --------------  ----- \n",
      " 0   age                       1470 non-null   int64 \n",
      " 1   attrition                 1470 non-null   object\n",
      " 2   businesstravel            1470 non-null   object\n",
      " 3   dailyrate                 1470 non-null   int64 \n",
      " 4   department                1470 non-null   object\n",
      " 5   distancefromhome          1470 non-null   int64 \n",
      " 6   education                 1470 non-null   int64 \n",
      " 7   educationfield            1470 non-null   object\n",
      " 8   employeecount             1470 non-null   int64 \n",
      " 9   employeenumber            1470 non-null   int64 \n",
      " 10  environmentsatisfaction   1470 non-null   int64 \n",
      " 11  gender                    1470 non-null   object\n",
      " 12  hourlyrate                1470 non-null   int64 \n",
      " 13  jobinvolvement            1470 non-null   int64 \n",
      " 14  joblevel                  1470 non-null   int64 \n",
      " 15  jobrole                   1470 non-null   object\n",
      " 16  jobsatisfaction           1470 non-null   int64 \n",
      " 17  maritalstatus             1470 non-null   object\n",
      " 18  monthlyincome             1470 non-null   int64 \n",
      " 19  monthlyrate               1470 non-null   int64 \n",
      " 20  numcompaniesworked        1470 non-null   int64 \n",
      " 21  over18                    1470 non-null   object\n",
      " 22  overtime                  1470 non-null   object\n",
      " 23  percentsalaryhike         1470 non-null   int64 \n",
      " 24  performancerating         1470 non-null   int64 \n",
      " 25  relationshipsatisfaction  1470 non-null   int64 \n",
      " 26  standardhours             1470 non-null   int64 \n",
      " 27  stockoptionlevel          1470 non-null   int64 \n",
      " 28  totalworkingyears         1470 non-null   int64 \n",
      " 29  trainingtimeslastyear     1470 non-null   int64 \n",
      " 30  worklifebalance           1470 non-null   int64 \n",
      " 31  yearsatcompany            1470 non-null   int64 \n",
      " 32  yearsincurrentrole        1470 non-null   int64 \n",
      " 33  yearssincelastpromotion   1470 non-null   int64 \n",
      " 34  yearswithcurrmanager      1470 non-null   int64 \n",
      "dtypes: int64(26), object(9)\n",
      "memory usage: 402.1+ KB\n"
     ]
    }
   ],
   "source": [
    "data.info()"
   ]
  },
  {
   "cell_type": "code",
   "execution_count": 6,
   "metadata": {
    "scrolled": true
   },
   "outputs": [
    {
     "data": {
      "text/plain": [
       "age                         0\n",
       "attrition                   0\n",
       "businesstravel              0\n",
       "dailyrate                   0\n",
       "department                  0\n",
       "distancefromhome            0\n",
       "education                   0\n",
       "educationfield              0\n",
       "employeecount               0\n",
       "employeenumber              0\n",
       "environmentsatisfaction     0\n",
       "gender                      0\n",
       "hourlyrate                  0\n",
       "jobinvolvement              0\n",
       "joblevel                    0\n",
       "jobrole                     0\n",
       "jobsatisfaction             0\n",
       "maritalstatus               0\n",
       "monthlyincome               0\n",
       "monthlyrate                 0\n",
       "numcompaniesworked          0\n",
       "over18                      0\n",
       "overtime                    0\n",
       "percentsalaryhike           0\n",
       "performancerating           0\n",
       "relationshipsatisfaction    0\n",
       "standardhours               0\n",
       "stockoptionlevel            0\n",
       "totalworkingyears           0\n",
       "trainingtimeslastyear       0\n",
       "worklifebalance             0\n",
       "yearsatcompany              0\n",
       "yearsincurrentrole          0\n",
       "yearssincelastpromotion     0\n",
       "yearswithcurrmanager        0\n",
       "dtype: int64"
      ]
     },
     "execution_count": 6,
     "metadata": {},
     "output_type": "execute_result"
    }
   ],
   "source": [
    "data.isnull().sum()"
   ]
  },
  {
   "cell_type": "markdown",
   "metadata": {},
   "source": [
    "## Data preprocessing"
   ]
  },
  {
   "cell_type": "code",
   "execution_count": 7,
   "metadata": {
    "scrolled": true
   },
   "outputs": [],
   "source": [
    "data_num = data.copy()\n",
    "data_num.drop(['employeecount', 'employeenumber', 'over18', 'standardhours'],\n",
    "        axis=\"columns\", inplace=True)"
   ]
  },
  {
   "cell_type": "code",
   "execution_count": 8,
   "metadata": {},
   "outputs": [],
   "source": [
    "data_num.loc[data_num['attrition'] == 'Yes', 'attrition'] = 1\n",
    "data_num.loc[data_num['attrition'] == 'No', 'attrition'] = 0\n",
    "data_num['attrition']= data_num['attrition'].astype(int)"
   ]
  },
  {
   "cell_type": "code",
   "execution_count": 9,
   "metadata": {
    "scrolled": true
   },
   "outputs": [
    {
     "data": {
      "text/plain": [
       "{'Non-Travel', 'Travel_Frequently', 'Travel_Rarely'}"
      ]
     },
     "execution_count": 9,
     "metadata": {},
     "output_type": "execute_result"
    }
   ],
   "source": [
    "set(data_num['businesstravel'].values)"
   ]
  },
  {
   "cell_type": "code",
   "execution_count": 10,
   "metadata": {
    "scrolled": true
   },
   "outputs": [],
   "source": [
    "data_num.loc[data_num['businesstravel'] == 'Non-Travel', 'businesstravel'] = 0\n",
    "data_num.loc[data_num['businesstravel'] == 'Travel_Frequently', 'businesstravel'] = 2\n",
    "data_num.loc[data_num['businesstravel'] == 'Travel_Rarely', 'businesstravel'] = 1\n",
    "data_num['businesstravel']= data_num['businesstravel'].astype(int)"
   ]
  },
  {
   "cell_type": "code",
   "execution_count": 11,
   "metadata": {
    "scrolled": true
   },
   "outputs": [
    {
     "data": {
      "text/plain": [
       "{'Human Resources', 'Research & Development', 'Sales'}"
      ]
     },
     "execution_count": 11,
     "metadata": {},
     "output_type": "execute_result"
    }
   ],
   "source": [
    "set(data_num['department'].values)"
   ]
  },
  {
   "cell_type": "code",
   "execution_count": 12,
   "metadata": {},
   "outputs": [],
   "source": [
    "data_num.loc[data_num['department'] == 'Human Resources', 'department'] = 0\n",
    "data_num.loc[data_num['department'] == 'Sales'] = 1\n",
    "data_num.loc[data_num['department'] == 'Research & Development', 'department'] = 2\n",
    "data_num['department']= data_num['department'].astype(int)"
   ]
  },
  {
   "cell_type": "code",
   "execution_count": 13,
   "metadata": {},
   "outputs": [],
   "source": [
    "data_num.loc[data_num['gender'] == 'Female', 'gender'] = 0\n",
    "data_num.loc[data_num['gender'] == 'Male', 'gender'] = 1\n",
    "data_num['gender']= data_num['gender'].astype(int)"
   ]
  },
  {
   "cell_type": "code",
   "execution_count": 14,
   "metadata": {},
   "outputs": [
    {
     "data": {
      "text/plain": [
       "{1, 'Divorced', 'Married', 'Single'}"
      ]
     },
     "execution_count": 14,
     "metadata": {},
     "output_type": "execute_result"
    }
   ],
   "source": [
    "set(data_num['maritalstatus'].values)"
   ]
  },
  {
   "cell_type": "code",
   "execution_count": 15,
   "metadata": {
    "scrolled": true
   },
   "outputs": [],
   "source": [
    "data_num.loc[data_num['maritalstatus'] == 'Single', 'maritalstatus'] = 0\n",
    "data_num.loc[data_num['maritalstatus'] == 'Married', 'maritalstatus'] = 1\n",
    "data_num.loc[data_num['maritalstatus'] == 'Divorced', 'maritalstatus'] = 2\n",
    "data_num['maritalstatus']= data_num['maritalstatus'].astype(int)"
   ]
  },
  {
   "cell_type": "code",
   "execution_count": null,
   "metadata": {},
   "outputs": [],
   "source": []
  },
  {
   "cell_type": "code",
   "execution_count": 16,
   "metadata": {},
   "outputs": [],
   "source": [
    "data_num.loc[data_num['overtime'] == 'Yes','overtime' ] = 1\n",
    "data_num.loc[data_num['overtime'] == 'No', 'overtime'] = 0\n",
    "data_num['overtime']= data_num['overtime'].astype(int)"
   ]
  },
  {
   "cell_type": "code",
   "execution_count": 17,
   "metadata": {
    "scrolled": false
   },
   "outputs": [
    {
     "data": {
      "text/plain": [
       "{1,\n",
       " 'Healthcare Representative',\n",
       " 'Human Resources',\n",
       " 'Laboratory Technician',\n",
       " 'Manager',\n",
       " 'Manufacturing Director',\n",
       " 'Research Director',\n",
       " 'Research Scientist'}"
      ]
     },
     "execution_count": 17,
     "metadata": {},
     "output_type": "execute_result"
    }
   ],
   "source": [
    "set(data_num['jobrole'].values)"
   ]
  },
  {
   "cell_type": "code",
   "execution_count": 18,
   "metadata": {
    "scrolled": false
   },
   "outputs": [],
   "source": [
    "data_num.loc[data_num['jobrole'] == 'Healthcare Representative','jobrole' ] = 0\n",
    "data_num.loc[data_num['jobrole'] == 'Human Resources','jobrole' ] = 1\n",
    "data_num.loc[data_num['jobrole'] == 'Laboratory Technician','jobrole' ] = 2\n",
    "data_num.loc[data_num['jobrole'] == 'Manager','jobrole' ] = 3\n",
    "data_num.loc[data_num['jobrole'] == 'Manufacturing Director','jobrole' ] = 4\n",
    "data_num.loc[data_num['jobrole'] == 'Research Scientist','jobrole' ] = 5\n",
    "data_num.loc[data_num['jobrole'] == 'Research Director','jobrole' ] = 6\n",
    "data_num['jobrole']= data_num['jobrole'].astype(int)"
   ]
  },
  {
   "cell_type": "code",
   "execution_count": 19,
   "metadata": {},
   "outputs": [
    {
     "data": {
      "text/plain": [
       "{1, 'Human Resources', 'Life Sciences', 'Medical', 'Other', 'Technical Degree'}"
      ]
     },
     "execution_count": 19,
     "metadata": {},
     "output_type": "execute_result"
    }
   ],
   "source": [
    "set(data_num['educationfield'].values)"
   ]
  },
  {
   "cell_type": "code",
   "execution_count": 20,
   "metadata": {},
   "outputs": [],
   "source": [
    "data_num.loc[data_num['educationfield'] == 'Human Resources','educationfield' ] = 0\n",
    "data_num.loc[data_num['educationfield'] == 'Life Sciences','educationfield' ] = 1\n",
    "data_num.loc[data_num['educationfield'] == 'Medical','educationfield' ] = 2\n",
    "data_num.loc[data_num['educationfield'] == 'Other','educationfield' ] = 3\n",
    "data_num.loc[data_num['educationfield'] == 'Technical Degree','educationfield' ] = 4\n",
    "data_num['educationfield']= data_num['educationfield'].astype(int)"
   ]
  },
  {
   "cell_type": "code",
   "execution_count": 21,
   "metadata": {
    "scrolled": true
   },
   "outputs": [
    {
     "name": "stdout",
     "output_type": "stream",
     "text": [
      "<class 'pandas.core.frame.DataFrame'>\n",
      "RangeIndex: 1470 entries, 0 to 1469\n",
      "Data columns (total 31 columns):\n",
      " #   Column                    Non-Null Count  Dtype\n",
      "---  ------                    --------------  -----\n",
      " 0   age                       1470 non-null   int64\n",
      " 1   attrition                 1470 non-null   int64\n",
      " 2   businesstravel            1470 non-null   int64\n",
      " 3   dailyrate                 1470 non-null   int64\n",
      " 4   department                1470 non-null   int64\n",
      " 5   distancefromhome          1470 non-null   int64\n",
      " 6   education                 1470 non-null   int64\n",
      " 7   educationfield            1470 non-null   int64\n",
      " 8   environmentsatisfaction   1470 non-null   int64\n",
      " 9   gender                    1470 non-null   int64\n",
      " 10  hourlyrate                1470 non-null   int64\n",
      " 11  jobinvolvement            1470 non-null   int64\n",
      " 12  joblevel                  1470 non-null   int64\n",
      " 13  jobrole                   1470 non-null   int64\n",
      " 14  jobsatisfaction           1470 non-null   int64\n",
      " 15  maritalstatus             1470 non-null   int64\n",
      " 16  monthlyincome             1470 non-null   int64\n",
      " 17  monthlyrate               1470 non-null   int64\n",
      " 18  numcompaniesworked        1470 non-null   int64\n",
      " 19  overtime                  1470 non-null   int64\n",
      " 20  percentsalaryhike         1470 non-null   int64\n",
      " 21  performancerating         1470 non-null   int64\n",
      " 22  relationshipsatisfaction  1470 non-null   int64\n",
      " 23  stockoptionlevel          1470 non-null   int64\n",
      " 24  totalworkingyears         1470 non-null   int64\n",
      " 25  trainingtimeslastyear     1470 non-null   int64\n",
      " 26  worklifebalance           1470 non-null   int64\n",
      " 27  yearsatcompany            1470 non-null   int64\n",
      " 28  yearsincurrentrole        1470 non-null   int64\n",
      " 29  yearssincelastpromotion   1470 non-null   int64\n",
      " 30  yearswithcurrmanager      1470 non-null   int64\n",
      "dtypes: int64(31)\n",
      "memory usage: 356.1 KB\n"
     ]
    }
   ],
   "source": [
    "data_num.info()"
   ]
  },
  {
   "cell_type": "code",
   "execution_count": 23,
   "metadata": {},
   "outputs": [],
   "source": [
    "X = data_num.drop(columns=[\"attrition\"])\n",
    "y = data_num[\"attrition\"]"
   ]
  },
  {
   "cell_type": "markdown",
   "metadata": {},
   "source": [
    "### GradientBoostingClassifier"
   ]
  },
  {
   "cell_type": "code",
   "execution_count": 32,
   "metadata": {},
   "outputs": [
    {
     "name": "stdout",
     "output_type": "stream",
     "text": [
      "score 0.8945578231292517\n",
      "best parameters {'learning_rate': 0.2, 'loss': 'deviance', 'max_depth': 3, 'max_features': 'sqrt', 'min_samples_leaf': 0.4, 'min_samples_split': 0.30000000000000004, 'n_estimators': 3, 'subsample': 1.0}\n"
     ]
    }
   ],
   "source": [
    "clf_grid = {\n",
    "    \"loss\":[\"deviance\"],\n",
    "    \"learning_rate\": [0.1, 0.2],\n",
    "    \"min_samples_split\": np.linspace(0.1, 0.5, 5),\n",
    "    \"min_samples_leaf\": np.linspace(0.1, 0.5, 5),\n",
    "    \"max_depth\":[3],\n",
    "    \"max_features\":[\"log2\",\"sqrt\"],\n",
    "    \"subsample\":[0.85, 0.9, 1.0],\n",
    "    \"n_estimators\":[3]\n",
    "    }\n",
    "\n",
    "clf = GridSearchCV(GradientBoostingClassifier(), clf_grid, cv=10, n_jobs=-1)\n",
    "clf.fit(X, y)\n",
    "print(\"score\",clf.score(X, y))\n",
    "print(\"best parameters\", clf.best_params_)"
   ]
  },
  {
   "cell_type": "markdown",
   "metadata": {},
   "source": [
    "### DecisionTreeClassifier"
   ]
  },
  {
   "cell_type": "code",
   "execution_count": 35,
   "metadata": {},
   "outputs": [
    {
     "name": "stdout",
     "output_type": "stream",
     "text": [
      "Best hyperparameter settings: {'max_depth': None, 'min_samples_split': 100, 'random_state': 50}\n",
      "Corresponding ROC-AUC score (avg of 10-fold CV): 0.9309926633370527\n"
     ]
    }
   ],
   "source": [
    "dt_grid= {'max_depth': [None, 2, 5, 10, 15], 'min_samples_split': [2, 10, 100, 500], 'random_state': [50]}\n",
    "dt= DecisionTreeClassifier()\n",
    "search= GridSearchCV(dt, dt_grid, scoring= 'roc_auc', n_jobs= -1, cv= 10)\n",
    "search.fit(X, y)\n",
    "print('Best hyperparameter settings:', search.best_params_)\n",
    "print('Corresponding ROC-AUC score (avg of 10-fold CV):', search.best_score_)"
   ]
  },
  {
   "cell_type": "markdown",
   "metadata": {},
   "source": [
    "### SVC"
   ]
  },
  {
   "cell_type": "code",
   "execution_count": 48,
   "metadata": {},
   "outputs": [
    {
     "name": "stdout",
     "output_type": "stream",
     "text": [
      "Best hyperparameter settings: {'C': 1, 'gamma': 0.001, 'kernel': 'rbf'}\n",
      "Corresponding ROC-AUC score (avg of 10-fold CV): 1.0\n"
     ]
    }
   ],
   "source": [
    "svc_grid = [{'kernel': ['rbf'], 'gamma': [1e-3, 1e-4],\n",
    "                     'C': [1, 10, 100]},\n",
    "                    {'kernel': ['linear'], 'C': [1, 10, 100]}]\n",
    "svc = svm.SVC()\n",
    "search= GridSearchCV(svc, svc_grid, scoring= 'precision', n_jobs= -1, cv= 10)\n",
    "search.fit(X, y)\n",
    "print('Best hyperparameter settings:', search.best_params_)\n",
    "print('Corresponding ROC-AUC score (avg of 10-fold CV):', search.best_score_)"
   ]
  },
  {
   "cell_type": "markdown",
   "metadata": {},
   "source": [
    "### LogisticRegression"
   ]
  },
  {
   "cell_type": "code",
   "execution_count": 47,
   "metadata": {},
   "outputs": [
    {
     "name": "stdout",
     "output_type": "stream",
     "text": [
      "tuned hpyerparameters :(best parameters)  {'C': 0.1, 'penalty': 'l2'}\n",
      "accuracy : 0.9149659863945578\n"
     ]
    }
   ],
   "source": [
    "logreg=LogisticRegression(solver=\"lbfgs\", multi_class=\"auto\",max_iter=8000)\n",
    "log_grid={\"C\":np.logspace(-3,3,7), 'penalty': ['l2']}\n",
    "search=GridSearchCV(logreg, log_grid, cv=10)\n",
    "search.fit(X,y)\n",
    "print(\"tuned hpyerparameters :(best parameters) \",search.best_params_)\n",
    "print(\"accuracy :\",search.best_score_)"
   ]
  }
 ],
 "metadata": {
  "kernelspec": {
   "display_name": "Python 3",
   "language": "python",
   "name": "python3"
  },
  "language_info": {
   "codemirror_mode": {
    "name": "ipython",
    "version": 3
   },
   "file_extension": ".py",
   "mimetype": "text/x-python",
   "name": "python",
   "nbconvert_exporter": "python",
   "pygments_lexer": "ipython3",
   "version": "3.8.5"
  }
 },
 "nbformat": 4,
 "nbformat_minor": 4
}
