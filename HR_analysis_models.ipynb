{
 "cells": [
  {
   "cell_type": "code",
   "execution_count": 21,
   "metadata": {
    "scrolled": true
   },
   "outputs": [],
   "source": [
    "import numpy as np \n",
    "import pandas as pd \n",
    "\n",
    "from sklearn.model_selection import train_test_split\n",
    "from sklearn.preprocessing import OrdinalEncoder\n",
    "from sklearn.preprocessing import OneHotEncoder\n",
    "from sklearn.compose import ColumnTransformer\n",
    "from sklearn.preprocessing import StandardScaler\n",
    "\n",
    "import xgboost as xgb\n",
    "from xgboost import XGBClassifier\n",
    "from sklearn.tree import DecisionTreeClassifier\n",
    "from sklearn.neighbors import KNeighborsClassifier\n",
    "from sklearn.linear_model import LogisticRegression\n",
    "from sklearn.svm import SVR\n",
    "from sklearn import svm\n",
    "\n",
    "\n",
    "from sklearn.pipeline import Pipeline\n",
    "from sklearn.model_selection import GridSearchCV, cross_validate\n",
    "\n",
    "import joblib"
   ]
  },
  {
   "cell_type": "code",
   "execution_count": 22,
   "metadata": {},
   "outputs": [],
   "source": [
    "data_temp = pd.read_csv('./data/archive/aug_train.csv')\n",
    "data = data_temp.dropna()\n",
    "data.head()\n",
    "\n",
    "y = data['target'].astype(int)\n",
    "data = data.drop(['city','enrollee_id', 'target'], axis= 1)"
   ]
  },
  {
   "cell_type": "code",
   "execution_count": null,
   "metadata": {},
   "outputs": [],
   "source": []
  },
  {
   "cell_type": "markdown",
   "metadata": {},
   "source": [
    "# Data pre-processing"
   ]
  },
  {
   "cell_type": "raw",
   "metadata": {},
   "source": [
    "Next, we will do the data preprocessing.\n",
    "1. Count the NA data, if there is NA, deal with it. \n",
    "2. Convert the data type: \n",
    "For relevent_experience it is a categorical fields with only 2 possible values, No relevent experience convert to 0 and Has relevent experience to 1 respectively. \n",
    "For categorical fields experience, with a mix of numerical and text values, convert the text values to numbers\n",
    "3. Use ordinal encoding for each unique category value, and assign it an integer value. Here, for gender, education_level, enrolled_university, company_size, these columns have several category value. We use ordinal encoding. \n",
    "4. For categorical variables where no ordinal relationship exists, the integer encoding may not be enough, at best, or misleading to the model at worst. Gender, company_type and major_discipline don't have ordinal relationship, so we use one-hot encoding to deal with them. "
   ]
  },
  {
   "cell_type": "code",
   "execution_count": 23,
   "metadata": {
    "scrolled": true
   },
   "outputs": [
    {
     "data": {
      "text/plain": [
       "city_development_index    0\n",
       "gender                    0\n",
       "relevent_experience       0\n",
       "enrolled_university       0\n",
       "education_level           0\n",
       "major_discipline          0\n",
       "experience                0\n",
       "company_size              0\n",
       "company_type              0\n",
       "last_new_job              0\n",
       "training_hours            0\n",
       "dtype: int64"
      ]
     },
     "execution_count": 23,
     "metadata": {},
     "output_type": "execute_result"
    }
   ],
   "source": [
    "data.isnull().sum()"
   ]
  },
  {
   "cell_type": "code",
   "execution_count": 24,
   "metadata": {},
   "outputs": [],
   "source": [
    "import marshal\n",
    "from types import FunctionType\n",
    "from sklearn.base import BaseEstimator, TransformerMixin\n",
    "\n",
    "class MyFunctionTransformer(BaseEstimator, TransformerMixin):\n",
    "    def __init__(self, f):\n",
    "        self.func = f\n",
    "    def __call__(self, X):\n",
    "        return self.func(X)\n",
    "    def __getstate__(self):\n",
    "        self.func_name = self.func.__name__\n",
    "        self.func_code = marshal.dumps(self.func.__code__)\n",
    "        del self.func\n",
    "        return self.__dict__\n",
    "    def __setstate__(self, d):\n",
    "        d[\"func\"] = FunctionType(marshal.loads(d[\"func_code\"]), globals(), d[\"func_name\"])\n",
    "        del d[\"func_name\"]\n",
    "        del d[\"func_code\"]\n",
    "        self.__dict__ = d\n",
    "    def fit(self, X, y=None):\n",
    "        return self\n",
    "    def transform(self, X):\n",
    "        return self.func(X)"
   ]
  },
  {
   "cell_type": "raw",
   "metadata": {},
   "source": [
    "There is no NA data. "
   ]
  },
  {
   "cell_type": "code",
   "execution_count": 25,
   "metadata": {},
   "outputs": [],
   "source": [
    "def trans_func(data):\n",
    "    num_col = data.copy()\n",
    "    num_col.loc[data['relevent_experience'] == 'No relevent experience', 'relevent_experience'] = 0\n",
    "    num_col.loc[data['relevent_experience'] == 'Has relevent experience', 'relevent_experience'] = 1\n",
    "    num_col['relevent_experience']= num_col['relevent_experience'].astype(int)\n",
    "\n",
    "    num_col.loc[data['experience'] == '>20', 'experience']= 20\n",
    "    num_col.loc[data['experience'] == '<1', 'experience']= 1\n",
    "    num_col['experience']= num_col['experience'].astype(int)\n",
    "\n",
    "    num_col.loc[data['last_new_job'] == '>4', 'last_new_job']= 4\n",
    "    num_col.loc[data['last_new_job']== 'never', 'last_new_job']= 1000\n",
    "    num_col['last_new_job']= num_col['last_new_job'].astype(int)\n",
    "\n",
    "    num_col.loc[data['gender'] == 'Male', 'gender'] = 0\n",
    "    num_col.loc[data['gender'] == 'Female', 'gender'] = 1\n",
    "    num_col.loc[data['gender'] == 'Other', 'gender'] = 2\n",
    "    num_col['gender']= num_col['gender'].astype(int)\n",
    "\n",
    "    num_col.loc[data['education_level'] == 'Graduate', 'education_level'] = 0\n",
    "    num_col.loc[data['education_level'] == 'Masters', 'education_level'] = 1\n",
    "    num_col.loc[data['education_level'] == 'Phd', 'education_level'] = 2\n",
    "    num_col['education_level']= num_col['education_level'].astype(int)\n",
    "\n",
    "    num_col.loc[data['enrolled_university'] == 'no_enrollment', 'enrolled_university'] = 0\n",
    "    num_col.loc[data['enrolled_university'] == 'Part time course', 'enrolled_university'] = 1\n",
    "    num_col.loc[data['enrolled_university'] == 'Full time course', 'enrolled_university'] = 2\n",
    "    num_col['enrolled_university']= num_col['enrolled_university'].astype(int)\n",
    "\n",
    "\n",
    "    num_col.loc[data['company_size'] == '<10', 'company_size'] = 0\n",
    "    num_col.loc[data['company_size'] == '10/49', 'company_size'] = 1\n",
    "    num_col.loc[data['company_size'] == '50-99', 'company_size'] = 2\n",
    "    num_col.loc[data['company_size'] == '100-500', 'company_size'] = 3\n",
    "    num_col.loc[data['company_size'] == '500-999', 'company_size'] = 4\n",
    "    num_col.loc[data['company_size'] == '1000-4999', 'company_size'] = 5\n",
    "    num_col.loc[data['company_size'] == '5000-9999', 'company_size'] = 6\n",
    "    num_col.loc[data['company_size'] == '10000+', 'company_size'] = 7\n",
    "    num_col['company_size']= num_col['company_size'].astype(int)\n",
    "\n",
    "\n",
    "#     enc = OrdinalEncoder()\n",
    "#     num_col['education_level'] = enc.fit_transform(\n",
    "#                             num_col['education_level'].values.reshape(-1,1),\n",
    "#                             ['Graduate', 'Masters', 'Phd'])\n",
    "#     num_col['enrolled_university'] = enc.fit_transform(\n",
    "#                                 num_col['enrolled_university'].values.reshape(-1,1), \n",
    "#                                 ['no_enrollment', 'Part time course', 'Full time course'])\n",
    "#     num_col['company_size'] = enc.fit_transform(\n",
    "#                     num_col['company_size'].values.reshape(-1,1), \n",
    "#                     ['<10', '10/49', '50-99', '100-500', '500-999', '1000-4999', '5000-9999', '10000+'])\n",
    "\n",
    "#     print(num_col)\n",
    "\n",
    "    num_col.loc[data['major_discipline'] == 'Arts', 'major_discipline'] = 0\n",
    "    num_col.loc[data['major_discipline'] == 'Business Degree', 'major_discipline'] = 1\n",
    "    num_col.loc[data['major_discipline'] == 'Humanities', 'major_discipline'] = 2\n",
    "    num_col.loc[data['major_discipline'] == 'No Major', 'major_discipline'] = 3\n",
    "    num_col.loc[data['major_discipline'] == 'Other', 'major_discipline'] = 4\n",
    "    num_col.loc[data['major_discipline'] == 'STEM', 'major_discipline'] = 5\n",
    "    num_col['major_discipline']= num_col['major_discipline'].astype(int)\n",
    "\n",
    "\n",
    "    num_col.loc[data['company_type'] == 'Early Stage Startup', 'company_type'] = 0\n",
    "    num_col.loc[data['company_type'] == 'Funded Startup', 'company_type'] = 1\n",
    "    num_col.loc[data['company_type'] == 'NGO', 'company_type'] = 2\n",
    "    num_col.loc[data['company_type'] == 'Other', 'company_type'] = 3\n",
    "    num_col.loc[data['company_type'] == 'Public Sector', 'company_type'] = 4\n",
    "    num_col.loc[data['company_type'] == 'Pvt Ltd', 'company_type'] = 5\n",
    "    num_col['company_type']= num_col['company_type'].astype(int)\n",
    "\n",
    "    X = num_col\n",
    "\n",
    "\n",
    "#     cat_cols= ['major_discipline', 'company_type']\n",
    "#     ohe_transform= ColumnTransformer(transformers= [('cat', OneHotEncoder(), cat_cols)], sparse_threshold= 0)\n",
    "#     ohe_df= pd.DataFrame(ohe_transform.fit_transform(X), columns= ohe_transform.get_feature_names())\n",
    "#     X[ohe_transform.get_feature_names()]= ohe_transform.fit_transform(X)\n",
    "#     X= X.drop(cat_cols, axis= 1)\n",
    "\n",
    "\n",
    "#     sca = StandardScaler()\n",
    "#     X.loc[:, [\"city_development_index\", \"training_hours\"]] = sca.fit_transform(num_col.loc[:, [\"city_development_index\", \"training_hours\"]])\n",
    "    return X\n",
    "\n"
   ]
  },
  {
   "cell_type": "code",
   "execution_count": 26,
   "metadata": {
    "scrolled": false
   },
   "outputs": [
    {
     "data": {
      "text/plain": [
       "{'Early Stage Startup',\n",
       " 'Funded Startup',\n",
       " 'NGO',\n",
       " 'Other',\n",
       " 'Public Sector',\n",
       " 'Pvt Ltd'}"
      ]
     },
     "execution_count": 26,
     "metadata": {},
     "output_type": "execute_result"
    }
   ],
   "source": [
    "set(data['company_type'].values)"
   ]
  },
  {
   "cell_type": "code",
   "execution_count": 27,
   "metadata": {
    "scrolled": true
   },
   "outputs": [
    {
     "data": {
      "text/plain": [
       "{'Arts', 'Business Degree', 'Humanities', 'No Major', 'Other', 'STEM'}"
      ]
     },
     "execution_count": 27,
     "metadata": {},
     "output_type": "execute_result"
    }
   ],
   "source": [
    "set(data['major_discipline'].values)"
   ]
  },
  {
   "cell_type": "markdown",
   "metadata": {},
   "source": [
    "# Models"
   ]
  },
  {
   "cell_type": "markdown",
   "metadata": {},
   "source": [
    "### DecisionTreeClassifier"
   ]
  },
  {
   "cell_type": "code",
   "execution_count": 28,
   "metadata": {},
   "outputs": [],
   "source": [
    "from sklearn.preprocessing import FunctionTransformer\n",
    "transformer = FunctionTransformer(trans_func)"
   ]
  },
  {
   "cell_type": "code",
   "execution_count": 29,
   "metadata": {},
   "outputs": [],
   "source": [
    "X = trans_func(data)"
   ]
  },
  {
   "cell_type": "code",
   "execution_count": 40,
   "metadata": {},
   "outputs": [
    {
     "data": {
      "text/plain": [
       "pandas.core.frame.DataFrame"
      ]
     },
     "execution_count": 40,
     "metadata": {},
     "output_type": "execute_result"
    }
   ],
   "source": [
    "type(X)"
   ]
  },
  {
   "cell_type": "code",
   "execution_count": 30,
   "metadata": {
    "scrolled": true
   },
   "outputs": [
    {
     "name": "stdout",
     "output_type": "stream",
     "text": [
      "Best hyperparameter settings: {'max_depth': 10, 'min_samples_split': 500, 'random_state': 50}\n",
      "Corresponding ROC-AUC score (avg of 10-fold CV): 0.767355061030622\n"
     ]
    }
   ],
   "source": [
    "dt= DecisionTreeClassifier()\n",
    "dt_grid= {'max_depth': [None, 2, 5, 10, 15], 'min_samples_split': [2, 10, 100, 500], 'random_state': [50]}\n",
    "\n",
    "dt_search= GridSearchCV(dt, dt_grid, scoring= 'roc_auc', n_jobs= -1, cv= 10)\n",
    "dt_search.fit(X, y)\n",
    "print('Best hyperparameter settings:', dt_search.best_params_)\n",
    "print('Corresponding ROC-AUC score (avg of 10-fold CV):', dt_search.best_score_)"
   ]
  },
  {
   "cell_type": "code",
   "execution_count": 31,
   "metadata": {
    "scrolled": true
   },
   "outputs": [
    {
     "data": {
      "text/plain": [
       "dict_keys(['ccp_alpha', 'class_weight', 'criterion', 'max_depth', 'max_features', 'max_leaf_nodes', 'min_impurity_decrease', 'min_impurity_split', 'min_samples_leaf', 'min_samples_split', 'min_weight_fraction_leaf', 'random_state', 'splitter'])"
      ]
     },
     "execution_count": 31,
     "metadata": {},
     "output_type": "execute_result"
    }
   ],
   "source": [
    "dt.get_params().keys()"
   ]
  },
  {
   "cell_type": "markdown",
   "metadata": {},
   "source": [
    "### XGBClassifier"
   ]
  },
  {
   "cell_type": "code",
   "execution_count": 32,
   "metadata": {
    "scrolled": true
   },
   "outputs": [
    {
     "name": "stdout",
     "output_type": "stream",
     "text": [
      "XGBoost model ROC-AUC score: 0.7696893906010527\n"
     ]
    }
   ],
   "source": [
    "xgb= XGBClassifier(objective= 'binary:logistic', random_state= 24, n_estimators= 100, max_depth= 3, learning_rate= 0.1, alpha= 10)\n",
    "xgb_cv= cross_validate(xgb, X, y, n_jobs= -1, scoring= 'roc_auc', cv= 10)\n",
    "print('XGBoost model ROC-AUC score:', np.mean(xgb_cv['test_score']))"
   ]
  },
  {
   "cell_type": "markdown",
   "metadata": {},
   "source": [
    "### LogisticRegression"
   ]
  },
  {
   "cell_type": "code",
   "execution_count": 33,
   "metadata": {
    "scrolled": false
   },
   "outputs": [
    {
     "name": "stdout",
     "output_type": "stream",
     "text": [
      "tuned hpyerparameters :(best parameters)  {'C': 1000.0, 'penalty': 'l2'}\n",
      "accuracy : 0.8454482990822028\n"
     ]
    }
   ],
   "source": [
    "logreg=LogisticRegression(solver=\"lbfgs\", multi_class=\"auto\",max_iter=5000)\n",
    "log_grid={\"C\":np.logspace(-3,3,7), 'penalty': ['l2']}\n",
    "search=GridSearchCV(logreg, log_grid, cv=10)\n",
    "search.fit(X,y)\n",
    "print(\"tuned hpyerparameters :(best parameters) \",search.best_params_)\n",
    "print(\"accuracy :\",search.best_score_)"
   ]
  },
  {
   "cell_type": "markdown",
   "metadata": {},
   "source": [
    "### SVC"
   ]
  },
  {
   "cell_type": "code",
   "execution_count": 20,
   "metadata": {},
   "outputs": [
    {
     "name": "stdout",
     "output_type": "stream",
     "text": [
      "Best hyperparameter settings: {'C': 1000.0, 'penalty': 'l2'}\n",
      "Corresponding ROC-AUC score (avg of 10-fold CV): 0.8454482990822028\n"
     ]
    }
   ],
   "source": [
    "svc_grid = [{'kernel': ['rbf'], 'gamma': [1e-3, 1e-4],\n",
    "                     'C': [1, 10, 100]},\n",
    "                    {'kernel': ['linear'], 'C': [1, 10, 100]}]\n",
    "svc = svm.SVC()\n",
    "svc_search= GridSearchCV(svc, svc_grid, scoring= 'precision', n_jobs= -1, cv= 10)\n",
    "svc_search.fit(X, y)\n",
    "print('Best hyperparameter settings:', search.best_params_)\n",
    "print('Corresponding ROC-AUC score (avg of 10-fold CV):', search.best_score_)"
   ]
  },
  {
   "cell_type": "raw",
   "metadata": {},
   "source": [
    "From the scores, we will choose LogisticRegression. Save the model and prepare for the interface. "
   ]
  },
  {
   "cell_type": "code",
   "execution_count": 44,
   "metadata": {},
   "outputs": [],
   "source": [
    "# import marshal\n",
    "# from types import FunctionType\n",
    "# from sklearn.base import BaseEstimator, TransformerMixin\n",
    "\n",
    "# class MyFunctionTransformer(BaseEstimator, TransformerMixin):\n",
    "#     def __init__(self, f):\n",
    "#         self.func = f\n",
    "#     def __call__(self, X):\n",
    "#         return self.func(X)\n",
    "#     def __getstate__(self):\n",
    "#         self.func_name = self.func.__name__\n",
    "#         self.func_code = marshal.dumps(self.func.__code__)\n",
    "#         del self.func\n",
    "#         return self.__dict__\n",
    "#     def __setstate__(self, d):\n",
    "#         d[\"func\"] = FunctionType(marshal.loads(d[\"func_code\"]), globals(), d[\"func_name\"])\n",
    "#         del d[\"func_name\"]\n",
    "#         del d[\"func_code\"]\n",
    "#         self.__dict__ = d\n",
    "#     def fit(self, X, y=None):\n",
    "#         return self\n",
    "#     def transform(self, X):\n",
    "#         return self.func(X)"
   ]
  },
  {
   "cell_type": "code",
   "execution_count": 36,
   "metadata": {
    "scrolled": false
   },
   "outputs": [
    {
     "data": {
      "text/plain": [
       "0.8365341670388566"
      ]
     },
     "execution_count": 36,
     "metadata": {},
     "output_type": "execute_result"
    }
   ],
   "source": [
    "X = trans_func(data)\n",
    "X_train, X_test, y_train, y_test = train_test_split(X, y,random_state=0)\n",
    "\n",
    "log_reg=LogisticRegression(solver=\"lbfgs\", multi_class=\"auto\",max_iter=5000)\n",
    "log_reg.fit(X_train, y_train)\n",
    "log_reg.score(X_test, y_test)"
   ]
  },
  {
   "cell_type": "code",
   "execution_count": 37,
   "metadata": {
    "scrolled": true
   },
   "outputs": [
    {
     "name": "stdout",
     "output_type": "stream",
     "text": [
      "Exporting the trained model\n"
     ]
    },
    {
     "data": {
      "text/plain": [
       "['log_reg.joblib']"
      ]
     },
     "execution_count": 37,
     "metadata": {},
     "output_type": "execute_result"
    }
   ],
   "source": [
    "print('Exporting the trained model')\n",
    "# joblib.dump(log_reg_pipe, 'log_reg_pip.pkl', compress=1)\n",
    "joblib.dump(log_reg, 'log_reg.joblib')\n"
   ]
  }
 ],
 "metadata": {
  "kernelspec": {
   "display_name": "Python 3",
   "language": "python",
   "name": "python3"
  },
  "language_info": {
   "codemirror_mode": {
    "name": "ipython",
    "version": 3
   },
   "file_extension": ".py",
   "mimetype": "text/x-python",
   "name": "python",
   "nbconvert_exporter": "python",
   "pygments_lexer": "ipython3",
   "version": "3.8.5"
  }
 },
 "nbformat": 4,
 "nbformat_minor": 4
}
