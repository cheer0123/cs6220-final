{
 "cells": [
  {
   "cell_type": "code",
   "execution_count": 30,
   "metadata": {},
   "outputs": [],
   "source": [
    "import numpy as np \n",
    "import pandas as pd \n",
    "\n",
    "from sklearn.preprocessing import OrdinalEncoder\n",
    "from sklearn.preprocessing import OneHotEncoder\n",
    "from sklearn.compose import ColumnTransformer\n",
    "from sklearn.preprocessing import StandardScaler\n",
    "\n",
    "import xgboost as xgb\n",
    "from xgboost import XGBClassifier\n",
    "from sklearn.tree import DecisionTreeClassifier\n",
    "from sklearn.neighbors import KNeighborsClassifier\n",
    "from sklearn.linear_model import LogisticRegression\n",
    "from sklearn.svm import SVR\n",
    "from sklearn import svm\n",
    "\n",
    "\n",
    "from sklearn.pipeline import Pipeline\n",
    "from sklearn.model_selection import GridSearchCV, cross_validate"
   ]
  },
  {
   "cell_type": "code",
   "execution_count": 2,
   "metadata": {},
   "outputs": [
    {
     "data": {
      "text/html": [
       "<div>\n",
       "<style scoped>\n",
       "    .dataframe tbody tr th:only-of-type {\n",
       "        vertical-align: middle;\n",
       "    }\n",
       "\n",
       "    .dataframe tbody tr th {\n",
       "        vertical-align: top;\n",
       "    }\n",
       "\n",
       "    .dataframe thead th {\n",
       "        text-align: right;\n",
       "    }\n",
       "</style>\n",
       "<table border=\"1\" class=\"dataframe\">\n",
       "  <thead>\n",
       "    <tr style=\"text-align: right;\">\n",
       "      <th></th>\n",
       "      <th>enrollee_id</th>\n",
       "      <th>city</th>\n",
       "      <th>city_development_index</th>\n",
       "      <th>gender</th>\n",
       "      <th>relevent_experience</th>\n",
       "      <th>enrolled_university</th>\n",
       "      <th>education_level</th>\n",
       "      <th>major_discipline</th>\n",
       "      <th>experience</th>\n",
       "      <th>company_size</th>\n",
       "      <th>company_type</th>\n",
       "      <th>last_new_job</th>\n",
       "      <th>training_hours</th>\n",
       "      <th>target</th>\n",
       "    </tr>\n",
       "  </thead>\n",
       "  <tbody>\n",
       "    <tr>\n",
       "      <th>1</th>\n",
       "      <td>29725</td>\n",
       "      <td>city_40</td>\n",
       "      <td>0.776</td>\n",
       "      <td>Male</td>\n",
       "      <td>No relevent experience</td>\n",
       "      <td>no_enrollment</td>\n",
       "      <td>Graduate</td>\n",
       "      <td>STEM</td>\n",
       "      <td>15</td>\n",
       "      <td>50-99</td>\n",
       "      <td>Pvt Ltd</td>\n",
       "      <td>&gt;4</td>\n",
       "      <td>47</td>\n",
       "      <td>0.0</td>\n",
       "    </tr>\n",
       "    <tr>\n",
       "      <th>4</th>\n",
       "      <td>666</td>\n",
       "      <td>city_162</td>\n",
       "      <td>0.767</td>\n",
       "      <td>Male</td>\n",
       "      <td>Has relevent experience</td>\n",
       "      <td>no_enrollment</td>\n",
       "      <td>Masters</td>\n",
       "      <td>STEM</td>\n",
       "      <td>&gt;20</td>\n",
       "      <td>50-99</td>\n",
       "      <td>Funded Startup</td>\n",
       "      <td>4</td>\n",
       "      <td>8</td>\n",
       "      <td>0.0</td>\n",
       "    </tr>\n",
       "    <tr>\n",
       "      <th>7</th>\n",
       "      <td>402</td>\n",
       "      <td>city_46</td>\n",
       "      <td>0.762</td>\n",
       "      <td>Male</td>\n",
       "      <td>Has relevent experience</td>\n",
       "      <td>no_enrollment</td>\n",
       "      <td>Graduate</td>\n",
       "      <td>STEM</td>\n",
       "      <td>13</td>\n",
       "      <td>&lt;10</td>\n",
       "      <td>Pvt Ltd</td>\n",
       "      <td>&gt;4</td>\n",
       "      <td>18</td>\n",
       "      <td>1.0</td>\n",
       "    </tr>\n",
       "    <tr>\n",
       "      <th>8</th>\n",
       "      <td>27107</td>\n",
       "      <td>city_103</td>\n",
       "      <td>0.920</td>\n",
       "      <td>Male</td>\n",
       "      <td>Has relevent experience</td>\n",
       "      <td>no_enrollment</td>\n",
       "      <td>Graduate</td>\n",
       "      <td>STEM</td>\n",
       "      <td>7</td>\n",
       "      <td>50-99</td>\n",
       "      <td>Pvt Ltd</td>\n",
       "      <td>1</td>\n",
       "      <td>46</td>\n",
       "      <td>1.0</td>\n",
       "    </tr>\n",
       "    <tr>\n",
       "      <th>11</th>\n",
       "      <td>23853</td>\n",
       "      <td>city_103</td>\n",
       "      <td>0.920</td>\n",
       "      <td>Male</td>\n",
       "      <td>Has relevent experience</td>\n",
       "      <td>no_enrollment</td>\n",
       "      <td>Graduate</td>\n",
       "      <td>STEM</td>\n",
       "      <td>5</td>\n",
       "      <td>5000-9999</td>\n",
       "      <td>Pvt Ltd</td>\n",
       "      <td>1</td>\n",
       "      <td>108</td>\n",
       "      <td>0.0</td>\n",
       "    </tr>\n",
       "  </tbody>\n",
       "</table>\n",
       "</div>"
      ],
      "text/plain": [
       "    enrollee_id      city  city_development_index gender  \\\n",
       "1         29725   city_40                   0.776   Male   \n",
       "4           666  city_162                   0.767   Male   \n",
       "7           402   city_46                   0.762   Male   \n",
       "8         27107  city_103                   0.920   Male   \n",
       "11        23853  city_103                   0.920   Male   \n",
       "\n",
       "        relevent_experience enrolled_university education_level  \\\n",
       "1    No relevent experience       no_enrollment        Graduate   \n",
       "4   Has relevent experience       no_enrollment         Masters   \n",
       "7   Has relevent experience       no_enrollment        Graduate   \n",
       "8   Has relevent experience       no_enrollment        Graduate   \n",
       "11  Has relevent experience       no_enrollment        Graduate   \n",
       "\n",
       "   major_discipline experience company_size    company_type last_new_job  \\\n",
       "1              STEM         15        50-99         Pvt Ltd           >4   \n",
       "4              STEM        >20        50-99  Funded Startup            4   \n",
       "7              STEM         13          <10         Pvt Ltd           >4   \n",
       "8              STEM          7        50-99         Pvt Ltd            1   \n",
       "11             STEM          5    5000-9999         Pvt Ltd            1   \n",
       "\n",
       "    training_hours  target  \n",
       "1               47     0.0  \n",
       "4                8     0.0  \n",
       "7               18     1.0  \n",
       "8               46     1.0  \n",
       "11             108     0.0  "
      ]
     },
     "execution_count": 2,
     "metadata": {},
     "output_type": "execute_result"
    }
   ],
   "source": [
    "train_data_temp = pd.read_csv('./data/archive/aug_train.csv')\n",
    "train_data = train_data_temp.dropna()\n",
    "train_data.head()"
   ]
  },
  {
   "cell_type": "markdown",
   "metadata": {},
   "source": [
    "# Data pre-processing"
   ]
  },
  {
   "cell_type": "raw",
   "metadata": {},
   "source": [
    "Next, we will do the data preprocessing.\n",
    "1. Count the NA data, if there is NA, deal with it. \n",
    "2. Convert the data type: \n",
    "For relevent_experience it is a categorical fields with only 2 possible values, No relevent experience convert to 0 and Has relevent experience to 1 respectively. \n",
    "For categorical fields experience, with a mix of numerical and text values, convert the text values to numbers\n",
    "3. Use ordinal encoding for each unique category value, and assign it an integer value. Here, for gender, education_level, enrolled_university, company_size, these columns have several category value. We use ordinal encoding. \n",
    "4. For categorical variables where no ordinal relationship exists, the integer encoding may not be enough, at best, or misleading to the model at worst. Gender, company_type and major_discipline don't have ordinal relationship, so we use one-hot encoding to deal with them. "
   ]
  },
  {
   "cell_type": "code",
   "execution_count": 3,
   "metadata": {
    "scrolled": false
   },
   "outputs": [
    {
     "data": {
      "text/plain": [
       "enrollee_id               0\n",
       "city                      0\n",
       "city_development_index    0\n",
       "gender                    0\n",
       "relevent_experience       0\n",
       "enrolled_university       0\n",
       "education_level           0\n",
       "major_discipline          0\n",
       "experience                0\n",
       "company_size              0\n",
       "company_type              0\n",
       "last_new_job              0\n",
       "training_hours            0\n",
       "target                    0\n",
       "dtype: int64"
      ]
     },
     "execution_count": 3,
     "metadata": {},
     "output_type": "execute_result"
    }
   ],
   "source": [
    "train_data.isnull().sum()"
   ]
  },
  {
   "cell_type": "raw",
   "metadata": {},
   "source": [
    "There is no NA data. "
   ]
  },
  {
   "cell_type": "code",
   "execution_count": 4,
   "metadata": {},
   "outputs": [],
   "source": [
    "num_col = train_data.copy()\n",
    "num_col.loc[train_data['relevent_experience'] == 'No relevent experience', 'relevent_experience'] = 0\n",
    "num_col.loc[train_data['relevent_experience'] == 'Has relevent experience', 'relevent_experience'] = 1\n",
    "num_col['relevent_experience']= num_col['relevent_experience'].astype(int)"
   ]
  },
  {
   "cell_type": "code",
   "execution_count": 5,
   "metadata": {
    "scrolled": true
   },
   "outputs": [],
   "source": [
    "num_col.loc[train_data['experience'] == '>20', 'experience']= 20\n",
    "num_col.loc[train_data['experience'] == '<1', 'experience']= 1\n",
    "num_col['experience']= num_col['experience'].astype(int)"
   ]
  },
  {
   "cell_type": "code",
   "execution_count": 6,
   "metadata": {},
   "outputs": [],
   "source": [
    "num_col.loc[train_data['last_new_job'] == '>4', 'last_new_job']= 4\n",
    "num_col.loc[train_data['last_new_job']== 'never', 'last_new_job']= 1000\n",
    "num_col['last_new_job']= num_col['last_new_job'].astype(int)"
   ]
  },
  {
   "cell_type": "code",
   "execution_count": 7,
   "metadata": {
    "scrolled": false
   },
   "outputs": [],
   "source": [
    "enc = OrdinalEncoder()\n",
    "num_col['gender'] = enc.fit_transform(\n",
    "                    num_col['gender'].values.reshape(-1,1), \n",
    "                    ['Male', 'Female', 'Other'])\n",
    "num_col['education_level'] = enc.fit_transform(\n",
    "                            num_col['education_level'].values.reshape(-1,1),\n",
    "                            ['Graduate', 'Masters', 'Phd'])\n",
    "num_col['enrolled_university'] = enc.fit_transform(\n",
    "                                num_col['enrolled_university'].values.reshape(-1,1), \n",
    "                                ['no_enrollment', 'Part time course', 'Full time course'])\n",
    "num_col['company_size'] = enc.fit_transform(\n",
    "                    num_col['gender'].values.reshape(-1,1), \n",
    "                    ['<10', '10/49', '50-99', '100-500', '500-999', '1000-4999', '5000-9999', '10000+'])"
   ]
  },
  {
   "cell_type": "code",
   "execution_count": 8,
   "metadata": {
    "scrolled": true
   },
   "outputs": [
    {
     "data": {
      "text/plain": [
       "{'Early Stage Startup',\n",
       " 'Funded Startup',\n",
       " 'NGO',\n",
       " 'Other',\n",
       " 'Public Sector',\n",
       " 'Pvt Ltd'}"
      ]
     },
     "execution_count": 8,
     "metadata": {},
     "output_type": "execute_result"
    }
   ],
   "source": [
    "set(train_data['company_type'].values)"
   ]
  },
  {
   "cell_type": "code",
   "execution_count": 9,
   "metadata": {
    "scrolled": false
   },
   "outputs": [
    {
     "data": {
      "text/plain": [
       "{'Arts', 'Business Degree', 'Humanities', 'No Major', 'Other', 'STEM'}"
      ]
     },
     "execution_count": 9,
     "metadata": {},
     "output_type": "execute_result"
    }
   ],
   "source": [
    "set(train_data['major_discipline'].values)"
   ]
  },
  {
   "cell_type": "code",
   "execution_count": 10,
   "metadata": {
    "scrolled": true
   },
   "outputs": [],
   "source": [
    "sca = StandardScaler()\n",
    "num_col.loc[:, [\"city_development_index\", \"training_hours\"]] = sca.fit_transform(num_col.loc[:, [\"city_development_index\", \"training_hours\"]])"
   ]
  },
  {
   "cell_type": "code",
   "execution_count": 11,
   "metadata": {
    "scrolled": true
   },
   "outputs": [],
   "source": [
    "X= num_col.drop(['city','enrollee_id', 'target'], axis= 1)\n",
    "y= num_col['target'].astype(int)"
   ]
  },
  {
   "cell_type": "code",
   "execution_count": 12,
   "metadata": {},
   "outputs": [],
   "source": [
    "def ohe_features(cat_cols, X):\n",
    "    ohe_transform= ColumnTransformer(transformers= [('cat', OneHotEncoder(), cat_cols)], sparse_threshold= 0)\n",
    "    ohe_df= pd.DataFrame(ohe_transform.fit_transform(X), columns= ohe_transform.get_feature_names())\n",
    "    X[ohe_transform.get_feature_names()]= ohe_transform.fit_transform(X)\n",
    "    X= X.drop(cat_cols, axis= 1)\n",
    "    return X "
   ]
  },
  {
   "cell_type": "code",
   "execution_count": 13,
   "metadata": {
    "scrolled": true
   },
   "outputs": [],
   "source": [
    "cat_cols= ['major_discipline', 'company_type']\n",
    "X= ohe_features(cat_cols, X)"
   ]
  },
  {
   "cell_type": "code",
   "execution_count": 14,
   "metadata": {
    "scrolled": false
   },
   "outputs": [
    {
     "data": {
      "text/plain": [
       "city_development_index         float64\n",
       "gender                         float64\n",
       "relevent_experience              int64\n",
       "enrolled_university            float64\n",
       "education_level                float64\n",
       "experience                       int64\n",
       "company_size                   float64\n",
       "last_new_job                     int64\n",
       "training_hours                 float64\n",
       "cat__x0_Arts                   float64\n",
       "cat__x0_Business Degree        float64\n",
       "cat__x0_Humanities             float64\n",
       "cat__x0_No Major               float64\n",
       "cat__x0_Other                  float64\n",
       "cat__x0_STEM                   float64\n",
       "cat__x1_Early Stage Startup    float64\n",
       "cat__x1_Funded Startup         float64\n",
       "cat__x1_NGO                    float64\n",
       "cat__x1_Other                  float64\n",
       "cat__x1_Public Sector          float64\n",
       "cat__x1_Pvt Ltd                float64\n",
       "dtype: object"
      ]
     },
     "execution_count": 14,
     "metadata": {},
     "output_type": "execute_result"
    }
   ],
   "source": [
    "X.dtypes"
   ]
  },
  {
   "cell_type": "markdown",
   "metadata": {},
   "source": [
    "# Models"
   ]
  },
  {
   "cell_type": "markdown",
   "metadata": {},
   "source": [
    "### DecisionTreeClassifier"
   ]
  },
  {
   "cell_type": "code",
   "execution_count": 15,
   "metadata": {
    "scrolled": true
   },
   "outputs": [
    {
     "name": "stdout",
     "output_type": "stream",
     "text": [
      "Best hyperparameter settings: {'max_depth': 10, 'min_samples_split': 500, 'random_state': 50}\n",
      "Corresponding ROC-AUC score (avg of 10-fold CV): 0.7636794772730393\n"
     ]
    }
   ],
   "source": [
    "dt= DecisionTreeClassifier()\n",
    "dt_grid= {'max_depth': [None, 2, 5, 10, 15], 'min_samples_split': [2, 10, 100, 500], 'random_state': [50]}\n",
    "search= GridSearchCV(dt, dt_grid, scoring= 'roc_auc', n_jobs= -1, cv= 10)\n",
    "search.fit(X, y)\n",
    "print('Best hyperparameter settings:', search.best_params_)\n",
    "print('Corresponding ROC-AUC score (avg of 10-fold CV):', search.best_score_)"
   ]
  },
  {
   "cell_type": "markdown",
   "metadata": {},
   "source": [
    "### XGBClassifier"
   ]
  },
  {
   "cell_type": "code",
   "execution_count": 28,
   "metadata": {
    "scrolled": false
   },
   "outputs": [
    {
     "name": "stdout",
     "output_type": "stream",
     "text": [
      "XGBoost model ROC-AUC score: 0.7681965313656063\n"
     ]
    }
   ],
   "source": [
    "xgb= XGBClassifier(objective= 'binary:logistic', random_state= 24, n_estimators= 100, max_depth= 3, learning_rate= 0.1, alpha= 10)\n",
    "xgb_cv= cross_validate(xgb, X, y, n_jobs= -1, scoring= 'roc_auc', cv= 10)\n",
    "print('XGBoost model ROC-AUC score:', np.mean(xgb_cv['test_score']))"
   ]
  },
  {
   "cell_type": "markdown",
   "metadata": {},
   "source": [
    "### LogisticRegression"
   ]
  },
  {
   "cell_type": "code",
   "execution_count": 26,
   "metadata": {
    "scrolled": true
   },
   "outputs": [
    {
     "name": "stdout",
     "output_type": "stream",
     "text": [
      "tuned hpyerparameters :(best parameters)  {'C': 10.0, 'penalty': 'l2'}\n",
      "accuracy : 0.8469006883479648\n"
     ]
    }
   ],
   "source": [
    "logreg=LogisticRegression(solver=\"lbfgs\", multi_class=\"auto\",max_iter=5000)\n",
    "log_grid={\"C\":np.logspace(-3,3,7), 'penalty': ['l2']}\n",
    "search=GridSearchCV(logreg, log_grid, cv=10)\n",
    "search.fit(X,y)\n",
    "print(\"tuned hpyerparameters :(best parameters) \",search.best_params_)\n",
    "print(\"accuracy :\",search.best_score_)"
   ]
  },
  {
   "cell_type": "markdown",
   "metadata": {},
   "source": [
    "### SVC"
   ]
  },
  {
   "cell_type": "code",
   "execution_count": 37,
   "metadata": {},
   "outputs": [
    {
     "name": "stdout",
     "output_type": "stream",
     "text": [
      "Best hyperparameter settings: {'C': 100, 'gamma': 0.001, 'kernel': 'rbf'}\n",
      "Corresponding ROC-AUC score (avg of 10-fold CV): 0.5731549429567722\n"
     ]
    }
   ],
   "source": [
    "svc_grid = [{'kernel': ['rbf'], 'gamma': [1e-3, 1e-4],\n",
    "                     'C': [1, 10, 100]},\n",
    "                    {'kernel': ['linear'], 'C': [1, 10, 100]}]\n",
    "svc = svm.SVC()\n",
    "search= GridSearchCV(svc, svc_grid, scoring= 'precision', n_jobs= -1, cv= 10)\n",
    "search.fit(X, y)\n",
    "print('Best hyperparameter settings:', search.best_params_)\n",
    "print('Corresponding ROC-AUC score (avg of 10-fold CV):', search.best_score_)"
   ]
  }
 ],
 "metadata": {
  "kernelspec": {
   "display_name": "Python 3",
   "language": "python",
   "name": "python3"
  },
  "language_info": {
   "codemirror_mode": {
    "name": "ipython",
    "version": 3
   },
   "file_extension": ".py",
   "mimetype": "text/x-python",
   "name": "python",
   "nbconvert_exporter": "python",
   "pygments_lexer": "ipython3",
   "version": "3.8.5"
  }
 },
 "nbformat": 4,
 "nbformat_minor": 4
}
